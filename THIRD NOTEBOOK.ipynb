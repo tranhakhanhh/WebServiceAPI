{
 "cells": [
  {
   "cell_type": "markdown",
   "metadata": {},
   "source": [
    "# Final Project: Web Service APIs\n",
    "## Data exploration for Spotify\n",
    "by Lin Ma and Khanh Tran\n",
    "\n",
    "We worked with **Spotify** and explored a few interesting things about the general Spotify users and the users in CS181 class. \n",
    "\n",
    "Becasue we have been authorized by Spotify and the users in CS181 clss, we had the access to read users' following data, user's library data and so on. We paid special attention to user's following artists data and their library saved data, with the addition list for the most popular artists on Spotify we found from Wikipedia (https://en.wikipedia.org/wiki/List_of_most-streamed_artists_on_Spotify), we've created a relational database and expored a few interesting questions with it. \n",
    "The questions were:\n",
    "-\t**Question 1:** Is there a linear relationship found between CS 181 Spotify users(n=18) saved tracks and the number of following artists?\n",
    "-   **Question 2:** How does CS181’s TOP 20 artists differ from Spotify’s general TOP 20?\n",
    "-   **Question 3:** For the Artists that CS 181 Spotify users are following: Is there a trend observed in the artist’s popularity and the release date of their newest album that we listen to?\n",
    "\n",
    "To answer the questions we listed abrove, we acquired specific data through SQL queries and  pandas Data frame. Then we export the dataframe to a csv file so we can use Tableau to visualize and answer the interesting questions by interpreation the visual. \n",
    "\n",
    "This notebook gives the non expert audience the results of the data exploration for Spotify.\n",
    "The follwing cells bring the data visualization into this notebook."
   ]
  },
  {
   "cell_type": "markdown",
   "metadata": {},
   "source": [
    "**Question 1:** Is there a linear relationship found between CS 181 Spotify users(n=18) saved tracks and the number of following artists?"
   ]
  },
  {
   "cell_type": "markdown",
   "metadata": {},
   "source": [
    "<img src='Q1a.jpg'>"
   ]
  },
  {
   "cell_type": "markdown",
   "metadata": {},
   "source": [
    "To answer the first question, we first hypothesize that there will be a positive correlation found between people’s saved track and the number of followed artists. In other words, the more tracks you saved, the more artists you followed, or the other way around.  The graph above shows a linear regression model for CS 181 Spotify users’ number of saved tracks and the number of followed artists, while number of saved tracks is represented on the x-axis and number of followed artists is represented in the y-axis. This is a scatter plot and the line is the best fit line. Each data point represented an individual user. The p-value is a number between 0 and 1, it determines the significant of the result. Generally, a p-value that is less than 0.05 is considered to be statistically significant.  This p value suggests that the linear relationship is not significant and R-Square value is too small to indicate the relationship. But before we confirm the null hypothesis, we recognize a outlier though the graph. Because the limited sample size (n=18), the linear regression can easily affect by an extreme value. "
   ]
  },
  {
   "cell_type": "markdown",
   "metadata": {},
   "source": [
    "<img src='Q1b.jpg'>"
   ]
  },
  {
   "cell_type": "markdown",
   "metadata": {},
   "source": [
    "Hence, we took out the one possible outlier (2,971) then perform the regression model again. This time the positive correlation is perceived in between the variables. The second graph above shows a linear regression model for CS 181 Spotify users’ number of saved tracks and the number of followed artists without one perceived extreme value, while number of saved tracks is represented on the x-axis and number of followed artists is represented in the y-axis. Since the p value is less than 0.05, the regression model is significant which says the best fit line can predict the data in this model. R-squared value = 0.628 means the 62.8% data can be explained by the best fit line. Therefore, as the user’s number of save track increase their number of following artists increases too just like the other way around."
   ]
  },
  {
   "cell_type": "markdown",
   "metadata": {},
   "source": [
    "**Question 2:** How does CS181’s TOP 20 artists differ from Spotify’s general TOP 20?"
   ]
  },
  {
   "cell_type": "markdown",
   "metadata": {},
   "source": [
    "<img src='Q2.jpg'>"
   ]
  },
  {
   "cell_type": "markdown",
   "metadata": {},
   "source": [
    "We’ve compared the bar graph for TOP 20 artists with the most folloers from CS 181 class and the TOP 20 Artists with the most folloer from general spotify users. The class data were gathered from our users while the general spotify data were gathered by web scraping of wikipidia. As shown abrove, the bar graph on the left represent the CS 181 users’ prefernces while the one on the right represented general users’ preferences. We have the followers as the x-axis, but for Spotify general users the unit is millions. The artists’ name are listed in the decending order of followers on the y-axis. The colar shade represents the followers as well. The darker the color is, the more follower the artist have. After we compared this two bar graph, we realized that Ed Sheeran was indeed the Champion Artist in both lists. And we also perceived a few mutal artisits that appeared on both lists, including Shawn Mendes, Taylor Swift. Other than the mutual artists, our CS 181 users seems have a different taste of music with the general audiences."
   ]
  },
  {
   "cell_type": "markdown",
   "metadata": {},
   "source": [
    "**Question 3:** For the Artists that CS 181 Spotify users are following: Is there a trend observed in the artist’s popularity and the release date of their newest album that we listen to"
   ]
  },
  {
   "cell_type": "markdown",
   "metadata": {},
   "source": [
    "<img src='Q3.jpg'>"
   ]
  },
  {
   "cell_type": "markdown",
   "metadata": {},
   "source": [
    "We solved this problem by a SQL query from our sound relational database. This graph illistrates the trend of users following artits’ popularity and their newest album release day. In this scatter plot, the x-axis is the newest album release year for the artists. And on the y-axis is the artists’ popularity, it is a rating from 0 to 100, the higher the rating is, the popular the artist is in Spotify. There are 59 data points in this graph, the colar of each circle represent one unique artist. As we see in the graph, the data are more concentrated on the right-top coner, which suggests that there is a trend that our users favors sthe artists who has high popularity and who has released a album in resent years, other than a few exception. So as a artist, if you want to be followed by more users, you should have a hight rating on popularity and a new album released in recent years. "
   ]
  },
  {
   "cell_type": "code",
   "execution_count": null,
   "metadata": {},
   "outputs": [],
   "source": []
  }
 ],
 "metadata": {
  "kernelspec": {
   "display_name": "Python 3",
   "language": "python",
   "name": "python3"
  },
  "language_info": {
   "codemirror_mode": {
    "name": "ipython",
    "version": 3
   },
   "file_extension": ".py",
   "mimetype": "text/x-python",
   "name": "python",
   "nbconvert_exporter": "python",
   "pygments_lexer": "ipython3",
   "version": "3.7.4"
  }
 },
 "nbformat": 4,
 "nbformat_minor": 2
}
