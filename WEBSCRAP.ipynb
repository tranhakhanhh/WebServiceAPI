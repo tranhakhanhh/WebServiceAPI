{
 "cells": [
  {
   "cell_type": "markdown",
   "metadata": {},
   "source": [
    "# Final Project: Web Service APIs\n",
    "## Secondary data sources notebook\n",
    "by Lin Ma and Khanh Tran\n",
    "\n",
    "Other than the primary data source we have, we used wikipedia as the secondary data source provider. This notebook includes the functions that we used to web scrape the addition list for the most popular artists on Spotify.(https://en.wikipedia.org/wiki/List_of_most-streamed_artists_on_Spotify)\n",
    "\n",
    "The following cell is the process of how we do the web scraping for a table on Wikipedia."
   ]
  },
  {
   "cell_type": "code",
   "execution_count": 3,
   "metadata": {},
   "outputs": [],
   "source": [
    "import requests\n",
    "from lxml import etree\n",
    "import io\n",
    "import pandas as pd\n"
   ]
  },
  {
   "cell_type": "code",
   "execution_count": 7,
   "metadata": {},
   "outputs": [],
   "source": [
    "def parseHTML(table_url):\n",
    "    \"\"\" This function takes in an url, parses the data into an element tree\n",
    "    and returns the root element of that tree.\n",
    "    Parameters:\n",
    "        table_url: a given url\n",
    "    Return: root element of etree\n",
    "    \"\"\"\n",
    "    resp = requests.get(table_url) #use get request to retrieve data\n",
    "    if resp.status_code != 200:\n",
    "        return None #return None if status code is not 200\n",
    "    parser = etree.HTMLParser(remove_blank_text=True)\n",
    "    tree = etree.parse(io.BytesIO(resp.content), parser) #parse the data to an element tree\n",
    "    return tree.getroot()  #return the tree's root"
   ]
  },
  {
   "cell_type": "code",
   "execution_count": 5,
   "metadata": {},
   "outputs": [],
   "source": [
    "def getColumnName(root):\n",
    "    \"\"\" This function takes in an element and returns the list of column names from that element.\n",
    "    Parameter:\n",
    "        root: a tree element\n",
    "    Return: a list of column names\n",
    "    \"\"\"\n",
    "    colNames = [] #create an empty list to hold the column names\n",
    "    for i in range(1,5): #iterate through seven th\n",
    "        path = '//table[@class=\"wikitable sortable\"][4]/tbody/tr[1]/th[{}]/text()'\n",
    "        col = root.xpath(path.format(i)) #use string format to custom the xpath\n",
    "        if len(col) == 1:\n",
    "            colNames.append(col[0].strip())\n",
    "        elif len(col) == 2: #if a list of 2 strings is returned from the given xpath, combine both and add to colNames\n",
    "            colNames.append(col[0].strip()+' '+col[1].strip())\n",
    "    return colNames"
   ]
  },
  {
   "cell_type": "code",
   "execution_count": 6,
   "metadata": {},
   "outputs": [],
   "source": [
    "def getRank(root):\n",
    "    \"\"\" This function takes in an element and returns the list of ranks from that element.\n",
    "    Parameter:\n",
    "        root: a tree element\n",
    "    Return: a list of ranks\n",
    "    \"\"\"\n",
    "    #strip the strings returned from the xpath, turn them into integers and add to the ranks list\n",
    "    ranks = [int(r.replace('.','')) for r in root.xpath('//table[@class=\"wikitable sortable\"][4]/tbody/tr[position()>1]/td[1]/text()')]\n",
    "    #ranks = [int(r.strip()) for r in root.xpath('//table[@class=\"wikitable sortable plainrowheaders\"]/tbody/tr[position()>2]/td[1]/text()')]\n",
    "    return ranks #return the ranks list"
   ]
  },
  {
   "cell_type": "code",
   "execution_count": 5,
   "metadata": {
    "collapsed": true
   },
   "outputs": [],
   "source": [
    "def getArtist(root):\n",
    "    \"\"\" This function takes in an element and returns the list of Artists from that element.\n",
    "    Parameter:\n",
    "        root: a tree element\n",
    "    Return: a list of Artists\n",
    "    \"\"\"\n",
    "    artists = [a for a in root.xpath('//table[@class=\"wikitable sortable\"][4]/tbody/tr[position()>1]/td[2]/a/text()')]\n",
    "    return artists #return the countries list"
   ]
  },
  {
   "cell_type": "code",
   "execution_count": 6,
   "metadata": {
    "collapsed": true
   },
   "outputs": [],
   "source": [
    "def getFollower(root):\n",
    "    \"\"\" This function takes in an element and returns the list of followers from that element.\n",
    "    Parameter:\n",
    "        root: a tree element\n",
    "    Return: a list of followers\n",
    "    \"\"\"\n",
    "    #assign the list returned from the xpath to the list contReg\n",
    "    followers = [float(f) for f in root.xpath('//table[@class=\"wikitable sortable\"][4]/tbody/tr[position()>1]/td[3]/text()')]\n",
    "    return followers #return the list"
   ]
  },
  {
   "cell_type": "code",
   "execution_count": 7,
   "metadata": {
    "collapsed": true
   },
   "outputs": [],
   "source": [
    "def getCountry(root):\n",
    "    \"\"\" This function takes in an element and returns the list of statistical regions from that element.\n",
    "    Parameter:\n",
    "        root: a tree element\n",
    "    Return: a list of statistical regions\n",
    "    \"\"\"\n",
    "    countries = [c for c in root.xpath('//table[@class=\"wikitable sortable\"][4]/tbody/tr[position()>1]/td[4]/a/@title')]\n",
    "    return countries #return the list"
   ]
  },
  {
   "cell_type": "code",
   "execution_count": 37,
   "metadata": {
    "collapsed": true
   },
   "outputs": [],
   "source": [
    "def createDict(columns,root):\n",
    "    \"\"\" This function takes in column names and a tree element to create a dictionary of\n",
    "    (column names: list of things from the tree element) pairs.\n",
    "    Parameters:\n",
    "        columns: a list of column names\n",
    "        root: a tree element\n",
    "    Return: a dictionary\n",
    "    \"\"\"\n",
    "    d = {}\n",
    "    #for each column as a key in the d dictionary, call the appropriate function\n",
    "    #to get the list of things from the tree that match the column name\n",
    "    d[columns[0]]=getRank(root)\n",
    "    d[columns[1]]=getArtist(root)\n",
    "    d[columns[2]]=getFollower(root)\n",
    "    d[columns[3]]=getCountry(root)\n",
    "    return d #return the dictionary"
   ]
  },
  {
   "cell_type": "code",
   "execution_count": 46,
   "metadata": {
    "collapsed": true
   },
   "outputs": [],
   "source": [
    "def toDataFrame(DICT,indexCol):\n",
    "    \"\"\" This function takes in a dictionary and use pandas\n",
    "    to yield a dataframe from that dictionary.\n",
    "    Parameters:\n",
    "        DICT: a dictionary\n",
    "    Return: a dataframe\n",
    "    \"\"\"\n",
    "    df = pd.DataFrame(DICT) #use pandas to yield a dataframe from DICT\n",
    "    df.set_index(indexCol, inplace = True)\n",
    "    return df #return the dataframe"
   ]
  },
  {
   "cell_type": "code",
   "execution_count": 50,
   "metadata": {
    "collapsed": true
   },
   "outputs": [],
   "source": [
    "def toCSV(df):\n",
    "    \"\"\" This function takes in a dataframe and exports a csv file.\n",
    "    Parameters:\n",
    "        df: a dataframe\n",
    "    Return: None\n",
    "    \"\"\"\n",
    "    df.to_csv(path_or_buf='proj3_followers.csv',index=0) #export a csv file named cntry_by_pop from the given dataframe"
   ]
  },
  {
   "cell_type": "code",
   "execution_count": null,
   "metadata": {
    "collapsed": true
   },
   "outputs": [],
   "source": [
    "def toJSON(DICT):\n",
    "    with open(\".json\", \"w\") as filex:\n",
    "        json.dump(DICT, filex)"
   ]
  },
  {
   "cell_type": "code",
   "execution_count": 51,
   "metadata": {
    "collapsed": true
   },
   "outputs": [],
   "source": [
    "def main(url):\n",
    "    \"\"\" This function takes in an url, retrieves the HTML and extracts the data\n",
    "    then yields a pandas dataframe and exports to csv.\n",
    "    Parameters:\n",
    "        url: a given url\n",
    "    Return: None\n",
    "    \"\"\"\n",
    "    root = parseHTML(url) #get the root of a tree element from the data\n",
    "    headers = getColumnName(root)\n",
    "    if root != None:\n",
    "        data = createDict(headers,root) #create a dictionary from the extracted data\n",
    "        df = toDataFrame(data,headers[0]) #yields a pandas dataframe from the data\n",
    "        print(df) #print the dataframe\n",
    "        toCSV(df) #export csv"
   ]
  },
  {
   "cell_type": "code",
   "execution_count": 52,
   "metadata": {},
   "outputs": [
    {
     "name": "stdout",
     "output_type": "stream",
     "text": [
      "               Artist              Country  Followers (millions)\n",
      "Rank                                                            \n",
      "1          Ed Sheeran       United Kingdom                  36.8\n",
      "2               Drake               Canada                  29.2\n",
      "3             Rihanna             Barbados                  28.1\n",
      "4       Justin Bieber               Canada                  25.5\n",
      "5              Eminem        United States                  21.8\n",
      "6       Ariana Grande        United States                  21.0\n",
      "7          Bruno Mars        United States                  18.1\n",
      "8        David Guetta               France                  16.6\n",
      "9             Beyoncé        United States                  16.4\n",
      "10       Taylor Swift        United States                  16.2\n",
      "11           Coldplay       United Kingdom                  15.9\n",
      "12            Shakira             Colombia                  14.3\n",
      "13           Maroon 5        United States                  14.2\n",
      "14      Calvin Harris       United Kingdom                  14.0\n",
      "15    Imagine Dragons        United States                  14.0\n",
      "16        Nicki Minaj  Trinidad and Tobago                  13.2\n",
      "17         The Weeknd               Canada                  13.3\n",
      "18             Maluma             Colombia                  13.3\n",
      "19       Shawn Mendes               Canada                  13.0\n",
      "20              Ozuna          Puerto Rico                  12.5\n"
     ]
    }
   ],
   "source": [
    "main(\"https://en.wikipedia.org/wiki/List_of_most-streamed_artists_on_Spotify\")"
   ]
  },
  {
   "cell_type": "code",
   "execution_count": null,
   "metadata": {
    "collapsed": true
   },
   "outputs": [],
   "source": []
  }
 ],
 "metadata": {
  "kernelspec": {
   "display_name": "Python 3",
   "language": "python",
   "name": "python3"
  },
  "language_info": {
   "codemirror_mode": {
    "name": "ipython",
    "version": 3
   },
   "file_extension": ".py",
   "mimetype": "text/x-python",
   "name": "python",
   "nbconvert_exporter": "python",
   "pygments_lexer": "ipython3",
   "version": "3.7.4"
  }
 },
 "nbformat": 4,
 "nbformat_minor": 2
}
