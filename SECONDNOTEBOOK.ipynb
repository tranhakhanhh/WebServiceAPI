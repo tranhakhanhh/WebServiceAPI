{
 "cells": [
  {
   "cell_type": "markdown",
   "metadata": {},
   "source": [
    "# Final Project: Web Service APIs\n",
    "## Data acquisition notebook\n",
    "by Lin Ma and Khanh Tran\n",
    "\n",
    "This note book continue with the user_token.json file gathered from the first notebook. It starts from getting the premise of a valid token. So if the access token we gathered originally from the user is expired or not, we refresh the token before the further steps. \n",
    "What needs to be done in this notebook include: \n",
    "- Step 1: Refresh the expired token\n",
    "- Step 2: Data acquirization: Intacting with the Spotify web API to acquiring intresting data\n",
    "- Step 3: Data normalization: Organzing the data into the normalized dataframe \n",
    "- Step 4: Relational Database: Constructing a sound relational database based on the values stored in dataframe.\n",
    "\n",
    "Other than importing, the following code is doing the Step 1, which is just mapping the users with new tokens."
   ]
  },
  {
   "cell_type": "markdown",
   "metadata": {},
   "source": [
    "## Challenges & Success\n",
    "\n",
    "One of the challeges that we faced is setting the right data type for columns in our table. Because our users include international students, we have many artist names and album names that are not in English. After running into the problem of not being able to push some artist/ album name to our database's tables, we figured that we should change the data type to NVARCHAR, which can handle other languages apart from English.\n",
    "\n",
    "Another challenge that we managed to overcome is decompositing functions to handle pages of an http response in a clean manner. At first, we had duplicates in our acquired data due to the wrong offset (0, 50, 100, 150, etc). Our default limit for all the requests with a limit parameter is 50. Therefore, if there are more than one page, the offset should be 0, 51, 101, 151 and such.\n",
    "\n",
    "Last but not least, one of a significant problem that we came accross was generating the random id for our users, artists and albums. Because the random module we imported was not completely random, we ended up having to create an idList to keep track of the numbers already generated, and wrote a recursive function to regenerate a random number if the previous one generated is already in the list."
   ]
  },
  {
   "cell_type": "code",
   "execution_count": 75,
   "metadata": {
    "collapsed": true
   },
   "outputs": [],
   "source": [
    "import requests\n",
    "import json\n",
    "import pandas as pd\n",
    "import random, string\n",
    "import sqlalchemy as sa\n",
    "from random import randint"
   ]
  },
  {
   "cell_type": "markdown",
   "metadata": {},
   "source": [
    "## Step 1: Refresh the expired token"
   ]
  },
  {
   "cell_type": "code",
   "execution_count": 76,
   "metadata": {},
   "outputs": [],
   "source": [
    "def extractJSON(filename):\n",
    "    \"\"\" This function takes a json file to read from then returns the dictionary in that file.\n",
    "    Parameter:\n",
    "        filename: a local file's name\n",
    "    Return: a dictionary\n",
    "    \"\"\"\n",
    "    with open(filename) as file:\n",
    "        allcreds = json.load(file)\n",
    "        return allcreds"
   ]
  },
  {
   "cell_type": "code",
   "execution_count": 77,
   "metadata": {
    "collapsed": true
   },
   "outputs": [],
   "source": [
    "def db_setup(user, password, database):\n",
    "    \"\"\" This function takes in SQL user & password credentials to establish a connection to the server.\n",
    "    Parameter:\n",
    "        user: an user\n",
    "        password: a password\n",
    "        database: the database to create connection with\n",
    "    Return:\n",
    "        e: an engine created to establish connection\n",
    "        c: a connection to the server\n",
    "        cstring: the protocol to connect to the SQL server\n",
    "    \"\"\"\n",
    "    template = 'mysql+mysqlconnector://{}:{}@hadoop2.mathsci.denison.edu/{}'\n",
    "    cstring = template.format(user, password, database)\n",
    "    e = sa.create_engine(cstring)\n",
    "    c = e.connect()\n",
    "    return e, c, cstring"
   ]
  },
  {
   "cell_type": "code",
   "execution_count": 17,
   "metadata": {
    "collapsed": true
   },
   "outputs": [],
   "source": [
    "def getNewToken(tokenmap, accessurl):\n",
    "    \"\"\" This function takes in a dictionary of token and makes HTTP request to refresh & update the tokens in that dictionary\n",
    "    Parameters:\n",
    "        tokenmap: a dictionary containing users' tokens\n",
    "        accessurl: a url to access Spotify API\n",
    "    Return: the updated dictionary of users' tokens\n",
    "    \"\"\"\n",
    "    for user in tokenmap:\n",
    "        h = {\"Authorization\": \"Basic\" + \" \"+ tokenmap[user]['access_token']}\n",
    "        d ={}\n",
    "        d['grant_type']= 'refresh_token'\n",
    "        d['refresh_token'] = tokenmap[user]['refresh_token']\n",
    "        newresp = requests.post(accessurl, data=d, headers=h)    \n",
    "        retval1 = newresp.json()\n",
    "        if 'access_token' in retval1:\n",
    "            tokenmap[user]['access_token'] =retval1['access_token']\n",
    "        if 'token_type' in retval1:\n",
    "            tokenmap[user]['token_type'] =retval1['token_type']\n",
    "        if 'expires_in' in retval1:\n",
    "            tokenmap[user]['expires_in'] =retval1['expires_in']\n",
    "        if 'scope' in retval1:\n",
    "            tokenmap[user]['scope'] =retval1['scope']\n",
    "    return tokenmap"
   ]
  },
  {
   "cell_type": "markdown",
   "metadata": {},
   "source": [
    "## Step 2,3,4: Data acquirization & normalization + Relational Database"
   ]
  },
  {
   "cell_type": "markdown",
   "metadata": {},
   "source": [
    "### Create Tables"
   ]
  },
  {
   "cell_type": "code",
   "execution_count": 18,
   "metadata": {
    "collapsed": true
   },
   "outputs": [],
   "source": [
    "def createTables(table, connection):\n",
    "    \"\"\" This function takes in a connection and a table name that can be create in the SQL query\n",
    "        Parameter table a table need in the SQL query \n",
    "        connection the SQL connection created in the previous founction\n",
    "        Returns: None \n",
    "    \"\"\"\n",
    "    createUsers = \"\"\"CREATE TABLE Users(\n",
    "    UserID VARCHAR (20)     NOT NULL,\n",
    "    UserName VARCHAR (10)     NOT NULL,\n",
    "    NumTrack INT              NOT NULL,\n",
    "    PRIMARY KEY (UserID)\n",
    "    );\"\"\"\n",
    "    \n",
    "    createUser_Artist = \"\"\"CREATE TABLE User_Artist(\n",
    "    UserID VARCHAR (20)     NOT NULL,\n",
    "    ArtistID VARCHAR (20)     NOT NULL,\n",
    "    PRIMARY KEY (UserID, ArtistID)\n",
    "    );\"\"\"\n",
    "    \n",
    "    createArtists = \"\"\"CREATE TABLE Artists(\n",
    "    ArtistID VARCHAR (20)     NOT NULL,\n",
    "    ArtistName VARCHAR (40)   NOT NULL,\n",
    "    FollowersInMillions DECIMAL(4,2),\n",
    "    Popularity INT,\n",
    "    PRIMARY KEY (ArtistID)\n",
    "    );\"\"\"\n",
    "    \n",
    "    createArtist_Album = \"\"\"CREATE TABLE Artist_Album(\n",
    "    ArtistID VARCHAR (20)     NOT NULL,\n",
    "    AlbumID VARCHAR (20)      NOT NULL,\n",
    "    PRIMARY KEY (ArtistID, AlbumID)\n",
    "    );\"\"\"\n",
    "    \n",
    "    createAlbums = \"\"\"CREATE TABLE Albums(\n",
    "    AlbumID VARCHAR (20)      NOT NULL,\n",
    "    AlbumName NVARCHAR (50)    NOT NULL,\n",
    "    ReleaseDate DATE,\n",
    "    PRIMARY KEY (AlbumID)\n",
    "    );\"\"\"\n",
    "    \n",
    "    createUANames = \"\"\"CREATE TABLE UANames(\n",
    "    UserName VARCHAR (10)    NOT NULL,\n",
    "    ArtistName VARCHAR (40)  NOT NULL,\n",
    "    PRIMARY KEY (UserName, ArtistName)\n",
    "    );\"\"\"\n",
    "    \n",
    "    createAANames = \"\"\"CREATE TABLE AANames(\n",
    "    ArtistName VARCHAR (40)    NOT NULL,\n",
    "    AlbumName NVARCHAR (50)  NOT NULL,\n",
    "    PRIMARY KEY (ArtistName, AlbumName)\n",
    "    );\"\"\"\n",
    "    \n",
    "    createTable = 'create'+table\n",
    "    connection.execute(createTable)"
   ]
  },
  {
   "cell_type": "markdown",
   "metadata": {},
   "source": [
    "### Insert into tables\n",
    "#### Users Table"
   ]
  },
  {
   "cell_type": "code",
   "execution_count": 19,
   "metadata": {
    "collapsed": true
   },
   "outputs": [],
   "source": [
    "def randomID(idList):\n",
    "    \"\"\" This function takes in list of id and randomlize it with to create a random list of id which can never repeat\n",
    "    Parameters:\n",
    "        idList: the list of id number generated\n",
    "    Return: the random string of number generated\n",
    "    \"\"\"\n",
    "    i = str(random.randrange(1, 200000000, 1))\n",
    "    if i not in idList:\n",
    "        return i\n",
    "    return randomID(idList)"
   ]
  },
  {
   "cell_type": "code",
   "execution_count": 20,
   "metadata": {
    "collapsed": true
   },
   "outputs": [],
   "source": [
    "def urlContruct(scope):\n",
    "    \"\"\" This function construct the url which take in the scopes\n",
    "    Parameters:\n",
    "        scope that has been defined in the json file\n",
    "    Return: url a valid url that provides infomations with desired scope\n",
    "    \"\"\"\n",
    "    protocol = \"https://\"\n",
    "    location = \"api.spotify.com/v1/me\"\n",
    "    resource = \"/\" +scope\n",
    "    template = '{}{}{}'\n",
    "    url = template.format(protocol, location, resource)\n",
    "    return url"
   ]
  },
  {
   "cell_type": "code",
   "execution_count": 21,
   "metadata": {
    "collapsed": true
   },
   "outputs": [],
   "source": [
    "def getTrack(tokenmap, user, offset):\n",
    "    \"\"\" This function get the tracks from the url takes in tokenmap user and offset\n",
    "    Parameters:\n",
    "    tokenmap user with maped token as a dictionary\n",
    "    user individual user in tokenmap\n",
    "    offset starting item of each page\n",
    "\n",
    "    Return: resp.json(): json file like response from the url\n",
    "    \"\"\"\n",
    "    url = urlContruct(\"tracks\")\n",
    "    d = {}\n",
    "    d[\"limit\"] = 50\n",
    "    d[\"offset\"] = offset\n",
    "    h = {\"Authorization\": \"Bearer\" + \" \"+ tokenmap[user]['access_token']}\n",
    "    resp = requests.get(url, params = d, headers= h)\n",
    "    return resp.json()"
   ]
  },
  {
   "cell_type": "code",
   "execution_count": 22,
   "metadata": {
    "collapsed": true
   },
   "outputs": [],
   "source": [
    "def UsersTable(tokenmap, connection):\n",
    "    \"\"\"This function takes in a connection and a table name that can be create in the SQL query form a users table\n",
    "        Parameter table a table need in the SQL query \n",
    "        connection the SQL connection created in the previous founction\n",
    "        Returns: NONE\n",
    "    \"\"\"\n",
    "    insertUsers = sa.sql.text(\"\"\"\n",
    "    INSERT INTO Users (UserID, UserName, NumTrack)  \n",
    "    VALUES (:ui, :u, :nt);\n",
    "    \"\"\")\n",
    "    idList = []\n",
    "    for user in tokenmap:\n",
    "        i = randomID(idList)\n",
    "        idList.append(i)\n",
    "        boundInsertUsers = insertUsers.bindparams(ui= 'US'+i, u= user, nt= getTrack(tokenmap, user, 0)['total'])\n",
    "        resultproxy = connection.execute(boundInsertUsers)"
   ]
  },
  {
   "cell_type": "markdown",
   "metadata": {},
   "source": [
    "#### Artists Table"
   ]
  },
  {
   "cell_type": "code",
   "execution_count": 27,
   "metadata": {
    "collapsed": true
   },
   "outputs": [],
   "source": [
    "def toDataFrame(DICT,indexCol):\n",
    "    \"\"\" This function takes in a dictionary and use pandas\n",
    "    to yield a dataframe from that dictionary.\n",
    "    Parameters:\n",
    "        DICT: a dictionary\n",
    "    Return: a dataframe\n",
    "    \"\"\"\n",
    "    df = pd.DataFrame(DICT) #use pandas to yield a dataframe from DICT\n",
    "    df.drop_duplicates(inplace = True)\n",
    "    df.set_index(indexCol, inplace = True)\n",
    "    return df #return the dataframe"
   ]
  },
  {
   "cell_type": "code",
   "execution_count": 28,
   "metadata": {
    "collapsed": true
   },
   "outputs": [],
   "source": [
    "def concatDataFrame(df1, df2):\n",
    "    \"\"\" This function takes in dataframe 1 and dataframe 2 concat the data frame \n",
    "    Parameters:\n",
    "        df1 a dataframe\n",
    "        df2 another dataframe\n",
    "    Return: a dataframe\n",
    "    \"\"\"\n",
    "    result = pd.concat([df1, df2], axis=1, join='outer')\n",
    "    result = result.reset_index()\n",
    "    result = result.astype(object).where(pd.notnull(result), None)\n",
    "    return result"
   ]
  },
  {
   "cell_type": "code",
   "execution_count": 29,
   "metadata": {
    "collapsed": true
   },
   "outputs": [],
   "source": [
    "def getArtist(tokenmap, user):\n",
    "    url = urlContruct(\"following\")\n",
    "    d = {}\n",
    "    d[\"limit\"] = 50\n",
    "    d[\"type\"] = \"artist\"\n",
    "    h = {\"Authorization\": \"Bearer\" + \" \"+ tokenmap[user]['access_token']}\n",
    "    resp = requests.get(url, params = d, headers= h)\n",
    "    return resp.json()['artists']['items']"
   ]
  },
  {
   "cell_type": "code",
   "execution_count": 30,
   "metadata": {
    "collapsed": true
   },
   "outputs": [],
   "source": [
    "def extractArtist(tokenmap):\n",
    "    \"\"\"This function takes in a connection and a table name that can be create in the SQL query form a users table\n",
    "        Parameter table a table need in the SQL query \n",
    "        connection the SQL connection created in the previous founction\n",
    "        Returns: NONE\n",
    "    \"\"\"\n",
    "    u = []\n",
    "    a = []\n",
    "    p = []\n",
    "    for user in tokenmap:\n",
    "        for artist in getArtist(tokenmap, user):\n",
    "            u.append(user)\n",
    "            a.append(artist['name'])\n",
    "            p.append(artist['popularity'])\n",
    "    return u, a, p"
   ]
  },
  {
   "cell_type": "code",
   "execution_count": 31,
   "metadata": {
    "collapsed": true
   },
   "outputs": [],
   "source": [
    "def createDictArtists(tokenmap):\n",
    "    \"\"\"This function takes in a connection and a table name that can be create in the SQL query form a users table\n",
    "        Parameter table a table need in the SQL query \n",
    "        connection the SQL connection created in the previous founction\n",
    "        Returns: NONE\n",
    "    \"\"\"\n",
    "    u, a, p = extractArtist(tokenmap)\n",
    "    ap = {}\n",
    "    ap['Artist'] = a\n",
    "    ap['Popularity'] = p\n",
    "    \n",
    "    ua = {}\n",
    "    ua['UserName'] = u\n",
    "    ua['ArtistName'] = a\n",
    "    \n",
    "    adict = [ap,ua]\n",
    "    return adict"
   ]
  },
  {
   "cell_type": "code",
   "execution_count": 32,
   "metadata": {
    "collapsed": true
   },
   "outputs": [],
   "source": [
    "def ArtistsDataFrame(tokenmap):\n",
    "    \"\"\"This function takes in a connection and a table name that can be create in the SQL query form a users table\n",
    "        Parameter table a table need in the SQL query \n",
    "        connection the SQL connection created in the previous founction\n",
    "        Returns: NONE\n",
    "    \"\"\"  \n",
    "    df1 = toDataFrame(extractJSON(\"MergeArtist.json\"),'Artist').drop(['Rank','Country'], axis=1, inplace = True)\n",
    "\n",
    "    ap = createDictArtists(tokenmap)[0]\n",
    "    df2 = toDataFrame(ap, 'Artist')\n",
    "    result = concatDataFrame(df1, df2)\n",
    "    return result"
   ]
  },
  {
   "cell_type": "code",
   "execution_count": 33,
   "metadata": {
    "collapsed": true
   },
   "outputs": [],
   "source": [
    "def ArtistsTable(tokenmap, connection):\n",
    "    \"\"\"This function takes in a connection and a table name that can be create in the SQL query form a users table\n",
    "        Parameter table a table need in the SQL query \n",
    "        connection the SQL connection created in the previous founction\n",
    "        Returns: NONE\n",
    "    \"\"\"\n",
    "    df = ArtistsDataFrame(tokenmap)\n",
    "    insertArtists = sa.sql.text(\"\"\"\n",
    "    INSERT INTO Artists (ArtistID, ArtistName, FollowersInMillions,Popularity)  \n",
    "    VALUES (:aid, :an, :f, :p);\n",
    "    \"\"\")\n",
    "    idList = []\n",
    "    for index, row in df.iterrows():\n",
    "        i = randomID(idList)\n",
    "        idList.append(i)\n",
    "        boundInsertArtists = insertArtists.bindparams(aid='ART'+i, an=row['index'], f=row['Followers (millions)'], p=row['Popularity'])\n",
    "        resultproxy = connection.execute(boundInsertArtists)"
   ]
  },
  {
   "cell_type": "markdown",
   "metadata": {},
   "source": [
    "#### User_Artist Table"
   ]
  },
  {
   "cell_type": "code",
   "execution_count": 35,
   "metadata": {
    "collapsed": true
   },
   "outputs": [],
   "source": [
    "def UANamesDataFrame(tokenmap):\n",
    "    \"\"\"This function takes in a connection and a table name that can be create in the SQL query form a users table\n",
    "        Parameter table a table need in the SQL query \n",
    "        connection the SQL connection created in the previous founction\n",
    "        Returns: NONE\n",
    "    \"\"\"\n",
    "    ua = createDictArtists(tokenmap)[1]\n",
    "    df3 = toDataFrame(ua,\"None\")"
   ]
  },
  {
   "cell_type": "code",
   "execution_count": 36,
   "metadata": {
    "collapsed": true
   },
   "outputs": [],
   "source": [
    "def UANamesTable(tokenmap, connection):\n",
    "    \"\"\"This function takes in a connection and a table name that can be create in the SQL query form a users table\n",
    "        Parameter table a table need in the SQL query \n",
    "        connection the SQL connection created in the previous founction\n",
    "        Returns: NONE\n",
    "    \"\"\"\n",
    "    df = UANamesDataFrame(tokenmap)\n",
    "    insertUANames = sa.sql.text(\"\"\"\n",
    "    INSERT INTO UANames (UserName, ArtistName)  \n",
    "    VALUES (:un, :an);\n",
    "    \"\"\")\n",
    "    for index, row in df.iterrows():\n",
    "        boundInsertUANames = insertUANames.bindparams(un = row['UserName'], an=row['ArtistName'])\n",
    "        resultproxy = connection.execute(boundInsertUANames)"
   ]
  },
  {
   "cell_type": "code",
   "execution_count": 37,
   "metadata": {
    "collapsed": true
   },
   "outputs": [],
   "source": [
    "def UserArtistDataFrame(connection):\n",
    "    \"\"\"This function takes in a connection and a table name that can be create in the SQL query form a users table\n",
    "        Parameter table a table need in the SQL query \n",
    "        connection the SQL connection created in the previous founction\n",
    "        Returns: NONE\n",
    "    \"\"\"\n",
    "    query = \"\"\"\n",
    "    SELECT Users.UserID, Artists.ArtistID\n",
    "    FROM UANames INNER JOIN Users\n",
    "        ON UANames.UserName = Users.UserName\n",
    "    INNER JOIN Artists\n",
    "        ON UANames.ArtistName = Artists.ArtistName\n",
    "    ORDER BY Users.UserName, Artists.ArtistName\n",
    "    \"\"\"\n",
    "    result = connection.execute(query)\n",
    "    resultdf = result.DataFrame()\n",
    "    return resultdf"
   ]
  },
  {
   "cell_type": "code",
   "execution_count": 38,
   "metadata": {
    "collapsed": true
   },
   "outputs": [],
   "source": [
    "def UserArtistTable(tokenmap, connection):\n",
    "    \"\"\"This function takes in a connection and a table name that can be create in the SQL query form a users table\n",
    "        Parameter table a table need in the SQL query \n",
    "        connection the SQL connection created in the previous founction\n",
    "        Returns: NONE\n",
    "    \"\"\"\n",
    "    df = UserArtistDataFrame(connection)\n",
    "    insertUserArtist = sa.sql.text(\"\"\"\n",
    "    INSERT INTO User_Artist (UserID, ArtistID)  \n",
    "    VALUES (:uid, :aid);\n",
    "    \"\"\")\n",
    "    for index, row in df.iterrows():\n",
    "        boundInsertUserArtist = insertUserArtist.bindparams(uid= row['UserID'],aid=row['ArtistID'])\n",
    "        resultproxy = connection.execute(boundInsertUserArtist)"
   ]
  },
  {
   "cell_type": "markdown",
   "metadata": {},
   "source": [
    "#### Albums Table"
   ]
  },
  {
   "cell_type": "code",
   "execution_count": 41,
   "metadata": {
    "collapsed": true
   },
   "outputs": [],
   "source": [
    "def getAlbum(resp):\n",
    "    \"\"\"This function takes in a connection and a table name that can be create in the SQL query form a users table\n",
    "        Parameter table a table need in the SQL query \n",
    "        connection the SQL connection created in the previous founction\n",
    "        Returns: NONE\n",
    "    \"\"\"\n",
    "    alName = []\n",
    "    reDate = []\n",
    "    arName = []\n",
    "    for i in resp['items']:\n",
    "        al = i['track']['album']\n",
    "        ar = i['track']['artists']\n",
    "        if len(ar) == 1:\n",
    "            alName.append(al['name'])\n",
    "            reDate.append(al['release_date'])\n",
    "            arName.append(ar[0]['name'])\n",
    "        else:\n",
    "            for a in range(len(ar)):\n",
    "                alName.append(al['name'])\n",
    "                reDate.append(al['release_date'])\n",
    "                arName.append(ar[a]['name'])\n",
    "    return alName, reDate, arName"
   ]
  },
  {
   "cell_type": "code",
   "execution_count": 42,
   "metadata": {
    "collapsed": true
   },
   "outputs": [],
   "source": [
    "def processAlbum(tokenmap):\n",
    "    \"\"\"This function takes in a connection and a table name that can be create in the SQL query form a users table\n",
    "        Parameter table a table need in the SQL query \n",
    "        connection the SQL connection created in the previous founction\n",
    "        Returns: NONE\n",
    "    \"\"\"\n",
    "    alName = []\n",
    "    reDate = []\n",
    "    arName = []\n",
    "    for user in tokenmap:\n",
    "        resp = getTrack(tokenmap, user, 50, 0)\n",
    "        pages = resp['total']//50\n",
    "        al, re, ar = getAlbum(resp)\n",
    "        alName = alName + al\n",
    "        reDate = reDate + re\n",
    "        arName = arName + ar\n",
    "        for p in range(pages):\n",
    "            offset = 50*(p+1) + 1\n",
    "            resp = getTrack(tokenmap, user, 50, offset)\n",
    "            al, re, ar = getAlbum(resp)\n",
    "            alName = alName + al\n",
    "            reDate = reDate + re\n",
    "            arName = arName + ar\n",
    "    return alName, reDate, arName"
   ]
  },
  {
   "cell_type": "code",
   "execution_count": 43,
   "metadata": {
    "collapsed": true
   },
   "outputs": [],
   "source": [
    "def createDictAlbums(tokenmap):\n",
    "    \"\"\"This function takes in a connection and a table name that can be create in the SQL query form a users table\n",
    "        Parameter table a table need in the SQL query \n",
    "        connection the SQL connection created in the previous founction\n",
    "        Returns: NONE\n",
    "    \"\"\"\n",
    "    alName, reDate, arName = processAlbum(tokenmap)\n",
    "    d1 = {}\n",
    "    d1['AlbumName'] = alName\n",
    "    d1['ReleaseDate'] = reDate\n",
    "    d2 = {}\n",
    "    d2['AlbumName'] = alName\n",
    "    d2['ArtistName'] = arName\n",
    "    return d1,d2"
   ]
  },
  {
   "cell_type": "code",
   "execution_count": 44,
   "metadata": {
    "collapsed": true
   },
   "outputs": [],
   "source": [
    "def AlbumsDataFrame(tokenmap):\n",
    "    \"\"\"This function takes in a connection and a table name that can be create in the SQL query form a users table\n",
    "        Parameter table a table need in the SQL query \n",
    "        connection the SQL connection created in the previous founction\n",
    "        Returns: NONE\n",
    "    \"\"\"\n",
    "    d1, d2 = createDictAlbums(tokenmap)\n",
    "    df1 = toDataFrame(d1, \"None\")\n",
    "    df2 = toDataFrame(d2, \"None\")\n",
    "    df = [df1, df2]\n",
    "    return df"
   ]
  },
  {
   "cell_type": "code",
   "execution_count": 45,
   "metadata": {
    "collapsed": true
   },
   "outputs": [],
   "source": [
    "def AlbumsTable(tokenmap, connection):\n",
    "    \"\"\"This function takes in a connection and a table name that can be create in the SQL query form a users table\n",
    "        Parameter table a table need in the SQL query \n",
    "        connection the SQL connection created in the previous founction\n",
    "        Returns: NONE\n",
    "    \"\"\"\n",
    "    df = AlbumsDataFrame(tokenmap)[0]\n",
    "    insertAlbums = sa.sql.text(\"\"\"\n",
    "    INSERT INTO Albums (AlbumID, AlbumName, ReleaseDate)  \n",
    "    VALUES (:aid, :an, :rd);\n",
    "    \"\"\")\n",
    "    idList = []\n",
    "    for index, row in df.iterrows():\n",
    "        i = randomID(idList)\n",
    "        idList.append(i)\n",
    "        boundInsertAlbums = insertAlbums.bindparams(aid= 'ALB'+i, an=row['AlbumName'] ,rd= row['ReleaseDate'])\n",
    "        resultproxy = connection.execute(boundInsertAlbums)"
   ]
  },
  {
   "cell_type": "markdown",
   "metadata": {},
   "source": [
    "#### Artist_Album Table"
   ]
  },
  {
   "cell_type": "code",
   "execution_count": 47,
   "metadata": {
    "collapsed": true
   },
   "outputs": [],
   "source": [
    "def AANamesTable(tokenmap, connection):\n",
    "    \"\"\"This function takes in a connection and a table name that can be create in the SQL query form a users table\n",
    "        Parameter table a table need in the SQL query \n",
    "        connection the SQL connection created in the previous founction\n",
    "        Returns: NONE\n",
    "    \"\"\"\n",
    "    df = AlbumsDataFrame(tokenmap)[1]\n",
    "    insertAANames = sa.sql.text(\"\"\"\n",
    "    INSERT INTO AANames (ArtistName, AlbumName)  \n",
    "    VALUES (:ar, :al);\n",
    "    \"\"\")\n",
    "    for index, row in df.iterrows():\n",
    "        boundInsertAANames = insertAANames.bindparams(ar = row['ArtistName'], al=row['AlbumName'])\n",
    "        resultproxy = connection.execute(boundInsertAANames)"
   ]
  },
  {
   "cell_type": "code",
   "execution_count": 48,
   "metadata": {
    "collapsed": true
   },
   "outputs": [],
   "source": [
    "def ArtistAlbumDataFrame(connection):\n",
    "    \"\"\"This function takes in a connection and a table name that can be create in the SQL query form a users table\n",
    "        Parameter table a table need in the SQL query \n",
    "        connection the SQL connection created in the previous founction\n",
    "        Returns: NONE\n",
    "    \"\"\"\n",
    "    query = \"\"\"\n",
    "    SELECT Artists.ArtistID, Albums.AlbumID\n",
    "    FROM AANames INNER JOIN Artists\n",
    "        ON AANames.ArtistName = Artists.ArtistName\n",
    "    INNER JOIN Albums\n",
    "        ON AANames.AlbumName = Albums.AlbumName\n",
    "    ORDER BY Artists.ArtistName, Albums.AlbumName\n",
    "    \"\"\"\n",
    "    result = connection.execute(query)\n",
    "    resultdf = result.DataFrame()\n",
    "    return resultdf"
   ]
  },
  {
   "cell_type": "code",
   "execution_count": 49,
   "metadata": {
    "collapsed": true
   },
   "outputs": [],
   "source": [
    "def ArtistAlbumTable(tokenmap, connection):\n",
    "    \"\"\"This function takes in a connection and a table name that can be create in the SQL query form a users table\n",
    "        Parameter table a table need in the SQL query \n",
    "        connection the SQL connection created in the previous founction\n",
    "        Returns: NONE\n",
    "    \"\"\"\n",
    "    df = ArtistAlbumDataFrame(connection)\n",
    "    insertArtistAlbum = sa.sql.text(\"\"\"\n",
    "    INSERT INTO Artist_Album (ArtistID, AlbumID)  \n",
    "    VALUES (:ari, :ali);\n",
    "    \"\"\")\n",
    "    for index, row in df.iterrows():\n",
    "        boundInsertArtistAlbum = insertArtistAlbum.bindparams(ari= row['ArtistID'],ali=row['AlbumID'])\n",
    "        resultproxy = connection.execute(boundInsertArtistAlbum)"
   ]
  },
  {
   "cell_type": "markdown",
   "metadata": {},
   "source": [
    "#### The next functions are examples of the SQL query we used to pull from the database to Tableau in order to create visualizations."
   ]
  },
  {
   "cell_type": "markdown",
   "metadata": {},
   "source": [
    "#### Question 1:  Is there a linear relationship found between CS 181 Spotify users(n=18) saved tracks and the number of following artists?"
   ]
  },
  {
   "cell_type": "code",
   "execution_count": 78,
   "metadata": {
    "collapsed": true
   },
   "outputs": [],
   "source": [
    "def question1(connection):\n",
    "    \"\"\" This function create an SQL query to get the data for question 1 by joining Artists and User_Artist Tables\n",
    "    Parameter:\n",
    "        connection a SQL connection\n",
    "    Return: q1\n",
    "    \"\"\"\n",
    "    query =\"\"\"\n",
    "    SELECT Artists.ArtistName, COUNT(User_Artist.UserID) as Followers\n",
    "    FROM User_Artist INNER JOIN Artists\n",
    "        ON User_Artist.ArtistID = Artists.ArtistID\n",
    "    GROUP BY User_Artist.ArtistID\n",
    "    ORDER BY Followers DESC\n",
    "    LIMIT 20\n",
    "    \"\"\"\n",
    "    t1 = connection.execute(query)\n",
    "    q1 = t1.fetchall()\n",
    "    return q1"
   ]
  },
  {
   "cell_type": "markdown",
   "metadata": {},
   "source": [
    "#### Question 2: How does CS181’s TOP 20 artists differ from Spotify’s general TOP 20?"
   ]
  },
  {
   "cell_type": "code",
   "execution_count": 79,
   "metadata": {
    "collapsed": true
   },
   "outputs": [],
   "source": [
    "def question2(connection):\n",
    "    \"\"\" This function create an SQL query to get the data for question 2 by joining Users and User_Artist Tables\n",
    "    Parameter:\n",
    "        connection: a SQL connection\n",
    "    Return: q2\n",
    "    \"\"\"\n",
    "    k=\"\"\"\n",
    "    SELECT Users.UserID, Users.numTrack, COUNT(User_Artist.ArtistID) as numArtist\n",
    "    FROM User_Artist INNER JOIN Users\n",
    "        ON User_Artist.UserID = Users.UserID\n",
    "    GROUP BY User_Artist.UserID\n",
    "    \"\"\"\n",
    "    t2 = connection.execute(query)\n",
    "    q2 = t2.fetchall()\n",
    "    return q2"
   ]
  },
  {
   "cell_type": "markdown",
   "metadata": {},
   "source": [
    "#### Question 3: For the Artists that CS 181 Spotify users are following: Is there a trend observed in the artist’s popularity and the release date of their newest album that we listen to?"
   ]
  },
  {
   "cell_type": "code",
   "execution_count": 70,
   "metadata": {
    "collapsed": true
   },
   "outputs": [],
   "source": [
    "def question3(connection):\n",
    "    \"\"\" This function create an SQL query to get the data for question 3 by joining 3 tables\n",
    "    Artists, User_Artist and Users Tables.\n",
    "    Parameter:\n",
    "        connection: a SQL connection\n",
    "    Return: q3\n",
    "    \"\"\"\n",
    "    query=\"\"\"\n",
    "    SELECT Artists.ArtistName, Artists.Popularity, MAX(Albums.ReleaseDate)\n",
    "    FROM Artist_Album INNER JOIN Artists\n",
    "        ON Artist_Album.ArtistID = Artists.ArtistID\n",
    "    INNER JOIN Albums\n",
    "        ON Artist_Album.AlbumID = Albums.AlbumID\n",
    "    WHERE (Artists.Popularity IS NOT NULL)\n",
    "    GROUP BY Artists.ArtistID\n",
    "    ORDER BY Artists.Popularity DESC\n",
    "    \"\"\"\n",
    "    t3 = connection.execute(query)\n",
    "    q3 = t3.fetchall()\n",
    "    return q3"
   ]
  },
  {
   "cell_type": "markdown",
   "metadata": {},
   "source": [
    "#### The main function"
   ]
  },
  {
   "cell_type": "code",
   "execution_count": 80,
   "metadata": {
    "collapsed": true
   },
   "outputs": [],
   "source": [
    "def main():\n",
    "    \"\"\" This main function takes all the functions that defined abrove and print the tables\n",
    "    \"\"\"\n",
    "    sqlcreds = extractJSON(\"creds_SQL.json\")['mysql']\n",
    "    engine, connection, cstring = db_setup(sqlcreds['user'], sqlcreds['password'], sqlcreds['user'])\n",
    "    \n",
    "    #refresh token\n",
    "    creds = extractJSON(\"creds.json\")['spotify']\n",
    "    accessurl = \"https://accounts.spotify.com/api/token\"\n",
    "    tokenmap= extractJSON(\"user_token.json\")\n",
    "    getNewToken(tokenmap, accessurl, creds)    \n",
    "    \n",
    "    #Users Table\n",
    "    #createTables(\"Users\", connection)\n",
    "    #UsersTable(tokenmap, connection)\n",
    "    \n",
    "    #Artists Table\n",
    "    #createTables(\"Artists\", connection)\n",
    "    #ArtistsTable(tokenmap, connection)\n",
    "    \n",
    "    #User_Artist Table\n",
    "    #createTables(\"User_Artist\", connection)\n",
    "    #UserArtistTable(tokenmap, connection)\n",
    "    \n",
    "    #Albums Table\n",
    "    #createTables(\"Albums\", connection)\n",
    "    #AlbumsTable(tokenmap, connection)\n",
    "    \n",
    "    #Artist_Album Table\n",
    "    #createTables(\"Artist_Album\", connection)\n",
    "    #ArtistAlbumTable(tokenmap, connection)\n",
    "\n",
    "    connection.close()\n",
    "    del engine"
   ]
  },
  {
   "cell_type": "code",
   "execution_count": 81,
   "metadata": {},
   "outputs": [],
   "source": [
    "main()"
   ]
  },
  {
   "cell_type": "code",
   "execution_count": null,
   "metadata": {
    "collapsed": true
   },
   "outputs": [],
   "source": []
  }
 ],
 "metadata": {
  "kernelspec": {
   "display_name": "Python 3",
   "language": "python",
   "name": "python3"
  },
  "language_info": {
   "codemirror_mode": {
    "name": "ipython",
    "version": 3
   },
   "file_extension": ".py",
   "mimetype": "text/x-python",
   "name": "python",
   "nbconvert_exporter": "python",
   "pygments_lexer": "ipython3",
   "version": "3.7.4"
  }
 },
 "nbformat": 4,
 "nbformat_minor": 2
}
