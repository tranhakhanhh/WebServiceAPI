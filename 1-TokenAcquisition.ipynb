{
 "cells": [
  {
   "cell_type": "markdown",
   "metadata": {},
   "source": [
    "# Final Project: Web Service APIs\n",
    "## Token aquisition notebook\n",
    "by Lin Ma and Khanh Tran\n",
    "\n",
    "   We worked with **Spotify** as our API provider to explore data in this final project. \n",
    "**Spotify** is a music streaming platform developed by Swedish company Spotify Technology. It is a API provider that require Authentication and Delegated Authorization (OAuth 2) to enable access to data that is unavailiable to anonymous user.\n",
    "Before we start coding, we went to Spotify's Developer homepage (https://developer.spotify.com/) and created a third party Application called **Happy Penguin**. For the redirect url  we constructed a basic website on github.\n",
    "This notebook include every setps and code we have done to get the access token from our users, including get the redirect url, create the access url, get the user code, use the codes to aquire tokens. \n",
    "\n",
    "To be more specific, as the third party application, we requested authorization from Spotify Developer to access data, we stored our client id, cliend secret, response type, state and scope in a file named cred.json then map it with spotify account service. Then by having the users click in our access url and authorize us with different scopes by login their spotify account. \n",
    "By enter the user code mannualy, we mapped users' token information and stored it in a dictionary.\n"
   ]
  },
  {
   "cell_type": "markdown",
   "metadata": {},
   "source": [
    "### Challenges & Success\n",
    "One of the challenge we faced at the first was giving the insufficent scope and have the users authorized us with it.\n",
    "Orignially, the scope we have is:\n",
    "- user-top-read: Get a User's Top Artists and Tracks\n",
    "However, we realized that it is not enough to find a few interesting question to answer. And we didn't have much scope at first place is also becasue we don't know the valid way to have motiple scope all at once. So we after we figued that out by doing a deep search on spotify developer webpage, we decided to added scopes as many as possible then we can decide which one to pay special attention with later when reaching the data aquicition step. We have to asked our users to authorize us again, now the scope we have include:\n",
    "\n",
    "- user-follow-read: Get User's Followed Artists\n",
    "- user-library-read:Get Current User's Saved Albums &Get a User's Saved Tracks\n",
    "- user-top-read : Get a User's Top Artists and Tracks\n",
    "- user-read-email:Get Current User's Profile (Because we didn't get through the IRB process, we decided not to use any data from this scope in the end)\n",
    "- user-read-birthdate: Get Current User's Profile (Because we didn't get through the IRB process, we decided not to use any data from this scope in the end)\n",
    "- user-read-recently-played: Get Current User's Recently Played Tracks\n",
    "- user-read-private: Get a User's Available Devices & Get Information About The User's Current Playback & Get the User's Currently Playing Track(Because we didn't get through the IRB process, we decided not to use any data from this scope in the end)\n",
    "\n",
    "\n",
    "Other then that, the user codes always expire in 10 mins. So when we first try to get all the users' code entered and exchange for token all at once, some of the code already expired. Therefore, we have to enter the code and exchaneg for token for a few user at a time to fit in the ten minues window. \n"
   ]
  },
  {
   "cell_type": "code",
   "execution_count": 49,
   "metadata": {
    "collapsed": true
   },
   "outputs": [],
   "source": [
    "import json\n",
    "import requests"
   ]
  },
  {
   "cell_type": "code",
   "execution_count": 50,
   "metadata": {
    "collapsed": true
   },
   "outputs": [],
   "source": [
    "def getURL(creds):\n",
    "    \"\"\" This function takes in an url, parses the data into an element tree\n",
    "    and returns the root element of that tree.\n",
    "    Parameters:\n",
    "        table_url: a given url\n",
    "    Return: root element of etree\n",
    "    \"\"\"\n",
    "    protocol = \"https\"\n",
    "    location = \"accounts.spotify.com\"\n",
    "    auth_resource = \"/authorize\"\n",
    "\n",
    "    authurl_fmt = \"{}://{}{}\"\n",
    "    authurl = authurl_fmt.format(protocol, location, auth_resource)\n",
    "    urlquery = {}\n",
    "    urlquery['client_id'] = creds['spotify']['appid']\n",
    "    urlquery['redirect_uri'] = creds['spotify']['redirect_uri']\n",
    "    urlquery['response_type'] = 'code'\n",
    "    urlquery['state'] = '1234567890'\n",
    "    urlquery['scope'] = [\"user-follow-read user-library-read user-top-read user-read-email user-read-birthdate user-read-recently-played user-read-private\"]\n",
    "    session = requests.Session()\n",
    "    p = requests.Request('GET', authurl, params=urlquery).prepare()\n",
    "    return p.url"
   ]
  },
  {
   "cell_type": "code",
   "execution_count": 51,
   "metadata": {
    "collapsed": true
   },
   "outputs": [],
   "source": [
    "def getCodeMap():\n",
    "    \"\"\" This function open a json file and lode it in this notebook as codemap\n",
    "    Parameters:\n",
    "        None\n",
    "    Return: codemap: a json lode file for user maps with their code\n",
    "    \"\"\"\n",
    "    with open(\"user_code.json\", \"r\") as file1:\n",
    "        codemap = json.load(file1)\n",
    "    return codemap"
   ]
  },
  {
   "cell_type": "code",
   "execution_count": 52,
   "metadata": {
    "collapsed": true
   },
   "outputs": [],
   "source": [
    "def createAccessURL():\n",
    "    \"\"\" This function consturct an access url for requesting authorization to access data\n",
    "    Parameters:\n",
    "        None\n",
    "    Return: accessurl: A valid url that use for requesting authorization to access data\n",
    "    \"\"\"\n",
    "    protocol = \"https\"\n",
    "    location = \"accounts.spotify.com\"\n",
    "    auth_resource = \"/api/token\"\n",
    "\n",
    "    access_fmt = \"{}://{}{}\"\n",
    "    accessurl = access_fmt.format(protocol, location, auth_resource)\n",
    "    return accessurl"
   ]
  },
  {
   "cell_type": "code",
   "execution_count": 53,
   "metadata": {
    "collapsed": true
   },
   "outputs": [],
   "source": [
    "def getToken(accessurl, codemap, tokenmap, creds, user, code):\n",
    "    \"\"\" This function takes in Accessurl, codemap, tokenmap, creds, user, code to exchange token from the api provider\n",
    "    Parameters:\n",
    "        accessurl: the valid accessurl that has been construct in the previous function\n",
    "        codemap: the loaded json file that are used to mape user with it's code \n",
    "        tokenmap: the toke map json file which includes the mapping for all the users\n",
    "        creds: the credentials json file for the third party application\n",
    "        user: users form code map\n",
    "        code: the code mapping with each user from the code map\n",
    "    Return: tokenmap: the exchanged token for each of the user \n",
    "    \"\"\"\n",
    "    urlquery = {}\n",
    "    urlquery['redirect_uri'] = creds['spotify']['redirect_uri']\n",
    "    urlquery['grant_type'] = \"authorization_code\"\n",
    "    urlquery['code'] = code\n",
    "    resp = requests.post(accessurl, data=urlquery, auth = (creds['spotify']['appid'], creds['spotify']['appsecret'])) \n",
    "    retval = resp.json()\n",
    "    if resp.status_code == 200:\n",
    "        tokenmap[user] = {}\n",
    "        if 'access_token' in retval:\n",
    "            tokenmap[user]['access_token'] =retval['access_token']\n",
    "        if 'token_type' in retval:\n",
    "            tokenmap[user]['token_type'] =retval['token_type']\n",
    "        if 'refresh_token' in retval:\n",
    "            tokenmap[user]['refresh_token'] =retval['refresh_token']\n",
    "        if 'expires_in' in retval:\n",
    "            tokenmap[user]['expires_in'] =retval['expires_in']\n",
    "        if 'scope' in retval:\n",
    "            tokenmap[user]['scope'] =retval['scope']\n",
    "    return tokenmap"
   ]
  },
  {
   "cell_type": "code",
   "execution_count": 54,
   "metadata": {},
   "outputs": [
    {
     "name": "stdout",
     "output_type": "stream",
     "text": [
      "https://accounts.spotify.com/authorize?client_id=393ab8e9d5804dd3a3cbe6ed01efb54c&redirect_uri=https%3A%2F%2Flinma619.github.io%2FCS181Project%2F&response_type=code&state=1234567890&scope=user-follow-read+user-library-read+user-top-read+user-read-email+user-read-birthdate+user-read-recently-played+user-read-private\n"
     ]
    }
   ],
   "source": [
    "with open(\"creds.json\", \"r\") as file:\n",
    "    creds = json.load(file)\n",
    "url = getURL(creds)\n",
    "print(url)\n",
    "accessurl = createAccessURL()\n",
    "tokenmap = {}"
   ]
  },
  {
   "cell_type": "code",
   "execution_count": 55,
   "metadata": {
    "collapsed": true
   },
   "outputs": [],
   "source": [
    "codemap = getCodeMap()\n",
    "for user in codemap:\n",
    "    if codemap[user] != {}: \n",
    "        getToken(accessurl, codemap, tokenmap, creds, user, codemap[user])"
   ]
  },
  {
   "cell_type": "code",
   "execution_count": 56,
   "metadata": {
    "collapsed": true
   },
   "outputs": [],
   "source": [
    "with open(\"user_token.json\", \"w\") as filex:\n",
    "    json.dump(tokenmap, filex)"
   ]
  }
 ],
 "metadata": {
  "kernelspec": {
   "display_name": "Python 3",
   "language": "python",
   "name": "python3"
  },
  "language_info": {
   "codemirror_mode": {
    "name": "ipython",
    "version": 3
   },
   "file_extension": ".py",
   "mimetype": "text/x-python",
   "name": "python",
   "nbconvert_exporter": "python",
   "pygments_lexer": "ipython3",
   "version": "3.7.4"
  }
 },
 "nbformat": 4,
 "nbformat_minor": 2
}
